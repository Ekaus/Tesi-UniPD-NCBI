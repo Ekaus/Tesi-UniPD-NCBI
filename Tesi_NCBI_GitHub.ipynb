{
  "nbformat": 4,
  "nbformat_minor": 0,
  "metadata": {
    "colab": {
      "provenance": [],
      "toc_visible": true
    },
    "kernelspec": {
      "name": "python3",
      "display_name": "Python 3"
    },
    "language_info": {
      "name": "python"
    }
  },
  "cells": [
    {
      "cell_type": "markdown",
      "source": [
        "E' necessario eseguire installare il pacchetto Bio (se non già installato sul dispositivo) per poter effettuare le richieste al sistema Entrez."
      ],
      "metadata": {
        "id": "cBD3HJh54XmD"
      }
    },
    {
      "cell_type": "code",
      "source": [
        "!pip install Bio"
      ],
      "metadata": {
        "id": "6P5KWZJ69qHI"
      },
      "execution_count": null,
      "outputs": []
    },
    {
      "cell_type": "markdown",
      "source": [
        "Il file CSV deve rispettare alcuni requisiti:\n",
        "\n",
        "*   Nome: \"Dataset.csv\" (modificabile da codice)\n",
        "*   Separatore: \";\" (punto e virgola, modificabile da codice)\n",
        "*   Colonna obbligatoria: \"Specie\" (che contiene i nomi delle specie, nome modificabile da codice)\n",
        "\n",
        "\n",
        "\n",
        "\n",
        "\n",
        "\n",
        "\n"
      ],
      "metadata": {
        "id": "fKpG3CJ24h9Y"
      }
    },
    {
      "cell_type": "code",
      "source": [
        "#Vengono importati tutti i pacchetti necessari\n",
        "import numpy as np\n",
        "import pandas as pd\n",
        "import re\n",
        "from google.colab import output as os\n",
        "\n",
        "#Viene importato il file CSV contenente le specie. E' possibile cambiare il nome del file e il separatore utilizzato.\n",
        "df = pd.read_csv('Dataset.csv', sep=\";\")\n",
        "\n",
        "#Viene scansionata la lista e viene mostrata a schermo, utile a fini di debugging.\n",
        "testDataset = df\n",
        "for (id, row) in testDataset.iterrows():\n",
        "  print(row.Specie)\n",
        "\n",
        "pattern = re.compile(\"\\s*\\([a-z,A-Z]*\\)\\s*\") #Spazio e testo tra parentesi\n",
        "\n",
        "#Qui vanno riportati i template che si desidera utilizzare\n",
        "#[{Abilitato per la ricerca : True/False}, {Nome della colonna}, {Stringa formattata per ricerca}]\n",
        "templates = [\n",
        "    [True, \"Mitocondriale\", \"nucleotide\", \"\\\"{SPECIE}\\\"[Title/Abstract] mitochondrion genome\"],\n",
        "    [True, \"Trascrittoma\", \"nucleotide\", \"TSA: \\\"{SPECIE}\\\" transcriptome shotgun assembly\"],\n",
        "    [True, \"Nucleare\", \"genome\", \"\\\"{SPECIE}\\\"[orgn]\"],\n",
        "]\n",
        "\n",
        "#Filtra i template selezionando soltanto quelli attivi, ovvero con primo valore \"True\"\n",
        "templates = [tem for tem in templates if tem[0]]\n"
      ],
      "metadata": {
        "id": "KHTOnwWSEkIb"
      },
      "execution_count": null,
      "outputs": []
    },
    {
      "cell_type": "markdown",
      "source": [
        "Ricerca ed elaborazione risultati"
      ],
      "metadata": {
        "id": "QRmbOSjz8DaE"
      }
    },
    {
      "cell_type": "code",
      "source": [
        "#Importa il sottopacchetto Entrez\n",
        "from Bio import Entrez\n",
        "#Dati configurazione API\n",
        "Entrez.email = \"EMAIL@DOMINIO.IT\"\n",
        "Entrez.api_key = \"APIKEYPERSONALE\"\n",
        "\n",
        "#Creazione file output\n",
        "output = pd.DataFrame(columns=[\"Specie\"])\n",
        "for template in templates:\n",
        "  output[template[1]] = []\n",
        "\n",
        "\n",
        "#Ricerca iterativa per ogni specie\n",
        "for (id, row) in testDataset.iterrows():\n",
        "  risultati = [row.Specie]\n",
        "  #Cerca tutti gli attributi selezionati tramite template precedentemente\n",
        "  for template in templates:\n",
        "\n",
        "    #Effettua la ricerca e verifica il numero di risultati\n",
        "    query = template[3].format(SPECIE = row.Specie)\n",
        "    handle = Entrez.esearch(db=template[2], retmax=10, term=query, idtype=\"acc\")\n",
        "    record = Entrez.read(handle)\n",
        "    handle.close()\n",
        "\n",
        "    #Se contiene testo tra parentesi e non ha trovato risultati, riprova senza parentesi\n",
        "    if int(record[\"Count\"]) == 0 and bool(re.search(pattern, row.Specie)) :\n",
        "      query = template[3].format(SPECIE = re.sub(\"\\s*\\([a-z,A-Z]*\\)\\s*\", \" \", row.Specie))\n",
        "      handle = Entrez.esearch(db=template[2], retmax=10, term=query, idtype=\"acc\")\n",
        "      record = Entrez.read(handle)\n",
        "      print(\"Parentesi rimosse\")\n",
        "      handle.close()\n",
        "\n",
        "    #Salva il numero di risultati restituiti\n",
        "    risultati.append(int(record[\"Count\"]))\n",
        "\n",
        "  output.loc[len(output.index)] = risultati\n",
        "  \n",
        "  #Aggiorna la console e mostra il numero di specie elaborate rispetto al totale (es. 15/100, 503/9500)\n",
        "  os.clear()\n",
        "  print(len(output.index),\"/\",testDataset.shape[0])\n",
        "\n",
        "#Converte i risultati numerici in valori booleani. Se si desidera mantenere l'informazione numerica, è necessario commentare le prime due righe.\n",
        "column_names = output.select_dtypes(include=[np.number]).columns\n",
        "output[column_names] = output[column_names].astype(bool)\n",
        "\n",
        "#Mostra a schermo la tabella completa. Se non desiderato si può commentare la riga.\n",
        "display(output)\n",
        "\n",
        "#Salvataggio file output\n",
        "output.to_csv('fileOutput.csv', index=False)"
      ],
      "metadata": {
        "id": "0BLF0aqpRsyV"
      },
      "execution_count": null,
      "outputs": []
    }
  ]
}